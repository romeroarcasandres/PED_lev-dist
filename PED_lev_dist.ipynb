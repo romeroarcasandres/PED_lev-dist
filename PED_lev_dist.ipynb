{
  "cells": [
    {
      "cell_type": "markdown",
      "metadata": {
        "id": "view-in-github",
        "colab_type": "text"
      },
      "source": [
        "<a href=\"https://colab.research.google.com/github/romeroarcasandres/PED_lev-dist/blob/main/PED_lev_dist.ipynb\" target=\"_parent\"><img src=\"https://colab.research.google.com/assets/colab-badge.svg\" alt=\"Open In Colab\"/></a>"
      ]
    },
    {
      "cell_type": "markdown",
      "metadata": {
        "id": "title-section"
      },
      "source": [
        "# PED Scoring Tool\n",
        "\n",
        "This notebook provides a tool for comparing two columns in a CSV file, calculating similarity scores using Levenshtein distance, and generating both a modified CSV with scores and an HTML report showing the differences."
      ]
    },
    {
      "cell_type": "markdown",
      "metadata": {
        "id": "setup-section"
      },
      "source": [
        "## Setup and Installation"
      ]
    },
    {
      "cell_type": "code",
      "execution_count": 1,
      "metadata": {
        "id": "install-packages",
        "colab": {
          "base_uri": "https://localhost:8080/"
        },
        "outputId": "169fa389-8d4e-497c-8059-402791ef6fb5"
      },
      "outputs": [
        {
          "output_type": "stream",
          "name": "stdout",
          "text": [
            "Collecting python-Levenshtein\n",
            "  Downloading python_levenshtein-0.27.1-py3-none-any.whl.metadata (3.7 kB)\n",
            "Collecting diff-match-patch\n",
            "  Downloading diff_match_patch-20241021-py3-none-any.whl.metadata (5.5 kB)\n",
            "Collecting Levenshtein==0.27.1 (from python-Levenshtein)\n",
            "  Downloading levenshtein-0.27.1-cp312-cp312-manylinux_2_17_x86_64.manylinux2014_x86_64.whl.metadata (3.6 kB)\n",
            "Collecting rapidfuzz<4.0.0,>=3.9.0 (from Levenshtein==0.27.1->python-Levenshtein)\n",
            "  Downloading rapidfuzz-3.14.2-cp312-cp312-manylinux_2_27_x86_64.manylinux_2_28_x86_64.whl.metadata (12 kB)\n",
            "Downloading python_levenshtein-0.27.1-py3-none-any.whl (9.4 kB)\n",
            "Downloading levenshtein-0.27.1-cp312-cp312-manylinux_2_17_x86_64.manylinux2014_x86_64.whl (159 kB)\n",
            "\u001b[2K   \u001b[90m━━━━━━━━━━━━━━━━━━━━━━━━━━━━━━━━━━━━━━━━\u001b[0m \u001b[32m159.9/159.9 kB\u001b[0m \u001b[31m3.6 MB/s\u001b[0m eta \u001b[36m0:00:00\u001b[0m\n",
            "\u001b[?25hDownloading diff_match_patch-20241021-py3-none-any.whl (43 kB)\n",
            "\u001b[2K   \u001b[90m━━━━━━━━━━━━━━━━━━━━━━━━━━━━━━━━━━━━━━━━\u001b[0m \u001b[32m43.3/43.3 kB\u001b[0m \u001b[31m1.2 MB/s\u001b[0m eta \u001b[36m0:00:00\u001b[0m\n",
            "\u001b[?25hDownloading rapidfuzz-3.14.2-cp312-cp312-manylinux_2_27_x86_64.manylinux_2_28_x86_64.whl (3.2 MB)\n",
            "\u001b[2K   \u001b[90m━━━━━━━━━━━━━━━━━━━━━━━━━━━━━━━━━━━━━━━━\u001b[0m \u001b[32m3.2/3.2 MB\u001b[0m \u001b[31m37.7 MB/s\u001b[0m eta \u001b[36m0:00:00\u001b[0m\n",
            "\u001b[?25hInstalling collected packages: rapidfuzz, diff-match-patch, Levenshtein, python-Levenshtein\n",
            "Successfully installed Levenshtein-0.27.1 diff-match-patch-20241021 python-Levenshtein-0.27.1 rapidfuzz-3.14.2\n"
          ]
        }
      ],
      "source": [
        "# Install required packages\n",
        "!pip install python-Levenshtein diff-match-patch"
      ]
    },
    {
      "cell_type": "markdown",
      "metadata": {
        "id": "import-section"
      },
      "source": [
        "## Import Libraries"
      ]
    },
    {
      "cell_type": "code",
      "execution_count": 2,
      "metadata": {
        "id": "import-libraries"
      },
      "outputs": [],
      "source": [
        "import os\n",
        "import pandas as pd\n",
        "import difflib\n",
        "import diff_match_patch as dmp_module\n",
        "import Levenshtein\n",
        "from google.colab import files"
      ]
    },
    {
      "cell_type": "markdown",
      "metadata": {
        "id": "helper-functions-section"
      },
      "source": [
        "## Helper Functions"
      ]
    },
    {
      "cell_type": "code",
      "execution_count": 3,
      "metadata": {
        "id": "helper-functions"
      },
      "outputs": [],
      "source": [
        "# Function to calculate the similarity score based on the raw Levenshtein distance.\n",
        "# It normalizes the raw distance so that if the strings are identical the score is 100,\n",
        "# and if they are very different the score will be closer to 0.\n",
        "def calculate_levenshtein_score(str1, str2):\n",
        "    # If both strings are empty, consider them identical\n",
        "    if not str1 and not str2:\n",
        "        return 100.0\n",
        "    # Calculate the raw Levenshtein distance\n",
        "    raw_distance = Levenshtein.distance(str1, str2)\n",
        "    # Normalize the distance using the length of the longer string\n",
        "    max_len = max(len(str1), len(str2))\n",
        "    similarity = 1 - (raw_distance / max_len)\n",
        "    # Multiply by 100 to convert to a percentage-like score\n",
        "    return similarity * 100\n",
        "\n",
        "# Function to calculate the document-level PED score\n",
        "def calculate_document_ped(col1_data, col2_data):\n",
        "    \"\"\"\n",
        "    Calculate the document-level PED score by concatenating all text\n",
        "    from both columns and computing the Levenshtein distance on the\n",
        "    combined text.\n",
        "    \"\"\"\n",
        "    # Concatenate all text from each column\n",
        "    full_text_col1 = \" \".join([str(text) if pd.notna(text) else \"\" for text in col1_data])\n",
        "    full_text_col2 = \" \".join([str(text) if pd.notna(text) else \"\" for text in col2_data])\n",
        "\n",
        "    # Calculate the Levenshtein score for the entire document\n",
        "    document_score = calculate_levenshtein_score(full_text_col1, full_text_col2)\n",
        "\n",
        "    return document_score\n",
        "\n",
        "# Function to calculate weights based on the length of the segments\n",
        "def calculate_weight(str1, str2):\n",
        "    return len(str1) + len(str2)\n",
        "\n",
        "# Function to generate HTML report of differences with row-level Levenshtein scores\n",
        "def generate_html_report(dmp, filename, col1_data, col2_data, diffs_list, score_column, document_ped, report_name, header1, header2):\n",
        "    html_report = [\n",
        "        f'''\n",
        "        <html>\n",
        "        <head>\n",
        "            <style>\n",
        "                body {{\n",
        "                    font-family: Arial, sans-serif;\n",
        "                    margin: 20px;\n",
        "                }}\n",
        "                .document-ped {{\n",
        "                    font-size: 18px;\n",
        "                    font-weight: bold;\n",
        "                    margin-bottom: 20px;\n",
        "                    padding: 15px;\n",
        "                    background-color: #e8f4f8;\n",
        "                    border-left: 4px solid #2196F3;\n",
        "                    border-radius: 4px;\n",
        "                }}\n",
        "                table {{\n",
        "                    width: 100%;\n",
        "                    border-collapse: collapse;\n",
        "                }}\n",
        "                th, td {{\n",
        "                    border: 1px solid #dddddd;\n",
        "                    text-align: left;\n",
        "                    padding: 8px;\n",
        "                }}\n",
        "                th {{\n",
        "                    background-color: #f2f2f2;\n",
        "                }}\n",
        "                tr:nth-child(even) {{\n",
        "                    background-color: #f9f9f9;\n",
        "                }}\n",
        "                pre {{\n",
        "                    white-space: pre-wrap; /* Allows wrapping of long lines */\n",
        "                    word-wrap: break-word; /* Breaks long lines within the 'pre' tag */\n",
        "                }}\n",
        "            </style>\n",
        "        </head>\n",
        "        <body>\n",
        "            <h2>Comparison Report for: {filename}</h2>\n",
        "            <div class=\"document-ped\">\n",
        "                PED of the document: {document_ped:.2f}\n",
        "            </div>\n",
        "            <table>\n",
        "                <tr>\n",
        "                    <th>Index</th>\n",
        "                    <th>{header1}</th>\n",
        "                    <th>{header2}</th>\n",
        "                    <th>Differences</th>\n",
        "                    <th>Score</th>\n",
        "                </tr>\n",
        "        '''\n",
        "    ]\n",
        "\n",
        "    for i, (data1, data2, diff_html, score) in enumerate(zip(col1_data, col2_data, diffs_list, score_column)):\n",
        "        html_report.append(f'<tr><td>{i + 1}</td><td>{data1}</td><td>{data2}</td><td><pre>{diff_html}</pre></td><td>{score:.2f}</td></tr>')\n",
        "\n",
        "    html_report.append('''\n",
        "        </table>\n",
        "        </body>\n",
        "        </html>\n",
        "    ''')\n",
        "\n",
        "    with open(f'{report_name}.html', 'w') as f:\n",
        "        f.write('\\n'.join(html_report))\n",
        "\n",
        "    print(f\"HTML diff report generated: {report_name}.html\")\n",
        "\n",
        "    # Download the HTML report in Colab\n",
        "    files.download(f'{report_name}.html')"
      ]
    },
    {
      "cell_type": "markdown",
      "metadata": {
        "id": "main-function-section"
      },
      "source": [
        "## Main Comparison Function (Modified for Colab)"
      ]
    },
    {
      "cell_type": "code",
      "execution_count": 4,
      "metadata": {
        "id": "main-function"
      },
      "outputs": [],
      "source": [
        "# Main function for comparison - adapted for Colab environment\n",
        "def compare_columns_in_csv():\n",
        "    # Upload a CSV file in Colab\n",
        "    print(\"Please upload a CSV file.\")\n",
        "    uploaded = files.upload()\n",
        "\n",
        "    if not uploaded:\n",
        "        print(\"No file uploaded. Exiting.\")\n",
        "        return\n",
        "\n",
        "    # Get the first uploaded file\n",
        "    csv_file = list(uploaded.keys())[0]\n",
        "\n",
        "    # Load CSV into pandas DataFrame with encoding detection\n",
        "    # Try different encodings in order of likelihood\n",
        "    encodings = ['utf-8', 'latin-1', 'iso-8859-1', 'cp1252', 'utf-16']\n",
        "    df = None\n",
        "\n",
        "    for encoding in encodings:\n",
        "        try:\n",
        "            df = pd.read_csv(csv_file, encoding=encoding)\n",
        "            print(f\"Successfully loaded CSV with {encoding} encoding\")\n",
        "            break\n",
        "        except (UnicodeDecodeError, UnicodeError):\n",
        "            continue\n",
        "\n",
        "    if df is None:\n",
        "        print(\"Error: Could not read the CSV file with any known encoding.\")\n",
        "        return\n",
        "\n",
        "    # Display available columns\n",
        "    print(\"Available columns:\")\n",
        "    for i, col in enumerate(df.columns):\n",
        "        print(f\"{i + 1}: {col}\")\n",
        "\n",
        "    # Prompt user to select columns using input() instead of tkinter\n",
        "    col1_index = int(input(\"Select the first column index - the Candidate MTed text (e.g., 1, 2, ...): \")) - 1\n",
        "    col2_index = int(input(\"Select the second column index - the Reference (e.g., 1, 2, ...): \")) - 1\n",
        "\n",
        "    col1 = df.columns[col1_index]\n",
        "    col2 = df.columns[col2_index]\n",
        "\n",
        "    # Get the report name from the user\n",
        "    report_name = input(\"Enter the name for the HTML report (without extension): \")\n",
        "\n",
        "    # Initialize diff_match_patch and lists to store results\n",
        "    dmp = dmp_module.diff_match_patch()\n",
        "    diffs_list = []\n",
        "    score_column = []\n",
        "\n",
        "    col1_data = df[col1].astype(str).tolist()\n",
        "    col2_data = df[col2].astype(str).tolist()\n",
        "\n",
        "    for val1, val2 in zip(col1_data, col2_data):\n",
        "        str1 = str(val1) if pd.notna(val1) else \"\"\n",
        "        str2 = str(val2) if pd.notna(val2) else \"\"\n",
        "\n",
        "        # Calculate score using the normalized raw Levenshtein distance approach\n",
        "        score = calculate_levenshtein_score(str1, str2)\n",
        "        score_column.append(score)\n",
        "\n",
        "        # Generate HTML diff using diff_match_patch\n",
        "        diffs = dmp.diff_main(str1, str2)\n",
        "        dmp.diff_cleanupSemantic(diffs)\n",
        "        diff_html = dmp.diff_prettyHtml(diffs)\n",
        "        diffs_list.append(diff_html)\n",
        "\n",
        "    # Calculate document-level PED score\n",
        "    document_ped = calculate_document_ped(col1_data, col2_data)\n",
        "    print(f\"\\nDocument-level PED Score: {document_ped:.2f}\")\n",
        "\n",
        "    # Add the row-level score to the dataframe as a new column\n",
        "    df[f\"Score ({col1} vs {col2})\"] = score_column\n",
        "\n",
        "    # Save and download the modified CSV\n",
        "    output_csv = f\"modified_{csv_file}\"\n",
        "    df.to_csv(output_csv, index=False)\n",
        "    print(f\"Modified CSV saved: {output_csv}\")\n",
        "    files.download(output_csv)\n",
        "\n",
        "    # Generate the HTML report with differences and row-level scores\n",
        "    generate_html_report(dmp, csv_file, col1_data, col2_data, diffs_list, score_column, document_ped, report_name, col1, col2)"
      ]
    },
    {
      "cell_type": "markdown",
      "metadata": {
        "id": "execution-section"
      },
      "source": [
        "## Execute the Script"
      ]
    },
    {
      "cell_type": "code",
      "execution_count": 5,
      "metadata": {
        "id": "execute-script",
        "colab": {
          "base_uri": "https://localhost:8080/",
          "height": 420
        },
        "outputId": "b11d2959-ebdc-4501-9f5e-6cbd43405e54"
      },
      "outputs": [
        {
          "output_type": "stream",
          "name": "stdout",
          "text": [
            "Please upload a CSV file.\n"
          ]
        },
        {
          "output_type": "display_data",
          "data": {
            "text/plain": [
              "<IPython.core.display.HTML object>"
            ],
            "text/html": [
              "\n",
              "     <input type=\"file\" id=\"files-8e8eefef-a27c-4f5f-9d66-6cd8dbea847f\" name=\"files[]\" multiple disabled\n",
              "        style=\"border:none\" />\n",
              "     <output id=\"result-8e8eefef-a27c-4f5f-9d66-6cd8dbea847f\">\n",
              "      Upload widget is only available when the cell has been executed in the\n",
              "      current browser session. Please rerun this cell to enable.\n",
              "      </output>\n",
              "      <script>// Copyright 2017 Google LLC\n",
              "//\n",
              "// Licensed under the Apache License, Version 2.0 (the \"License\");\n",
              "// you may not use this file except in compliance with the License.\n",
              "// You may obtain a copy of the License at\n",
              "//\n",
              "//      http://www.apache.org/licenses/LICENSE-2.0\n",
              "//\n",
              "// Unless required by applicable law or agreed to in writing, software\n",
              "// distributed under the License is distributed on an \"AS IS\" BASIS,\n",
              "// WITHOUT WARRANTIES OR CONDITIONS OF ANY KIND, either express or implied.\n",
              "// See the License for the specific language governing permissions and\n",
              "// limitations under the License.\n",
              "\n",
              "/**\n",
              " * @fileoverview Helpers for google.colab Python module.\n",
              " */\n",
              "(function(scope) {\n",
              "function span(text, styleAttributes = {}) {\n",
              "  const element = document.createElement('span');\n",
              "  element.textContent = text;\n",
              "  for (const key of Object.keys(styleAttributes)) {\n",
              "    element.style[key] = styleAttributes[key];\n",
              "  }\n",
              "  return element;\n",
              "}\n",
              "\n",
              "// Max number of bytes which will be uploaded at a time.\n",
              "const MAX_PAYLOAD_SIZE = 100 * 1024;\n",
              "\n",
              "function _uploadFiles(inputId, outputId) {\n",
              "  const steps = uploadFilesStep(inputId, outputId);\n",
              "  const outputElement = document.getElementById(outputId);\n",
              "  // Cache steps on the outputElement to make it available for the next call\n",
              "  // to uploadFilesContinue from Python.\n",
              "  outputElement.steps = steps;\n",
              "\n",
              "  return _uploadFilesContinue(outputId);\n",
              "}\n",
              "\n",
              "// This is roughly an async generator (not supported in the browser yet),\n",
              "// where there are multiple asynchronous steps and the Python side is going\n",
              "// to poll for completion of each step.\n",
              "// This uses a Promise to block the python side on completion of each step,\n",
              "// then passes the result of the previous step as the input to the next step.\n",
              "function _uploadFilesContinue(outputId) {\n",
              "  const outputElement = document.getElementById(outputId);\n",
              "  const steps = outputElement.steps;\n",
              "\n",
              "  const next = steps.next(outputElement.lastPromiseValue);\n",
              "  return Promise.resolve(next.value.promise).then((value) => {\n",
              "    // Cache the last promise value to make it available to the next\n",
              "    // step of the generator.\n",
              "    outputElement.lastPromiseValue = value;\n",
              "    return next.value.response;\n",
              "  });\n",
              "}\n",
              "\n",
              "/**\n",
              " * Generator function which is called between each async step of the upload\n",
              " * process.\n",
              " * @param {string} inputId Element ID of the input file picker element.\n",
              " * @param {string} outputId Element ID of the output display.\n",
              " * @return {!Iterable<!Object>} Iterable of next steps.\n",
              " */\n",
              "function* uploadFilesStep(inputId, outputId) {\n",
              "  const inputElement = document.getElementById(inputId);\n",
              "  inputElement.disabled = false;\n",
              "\n",
              "  const outputElement = document.getElementById(outputId);\n",
              "  outputElement.innerHTML = '';\n",
              "\n",
              "  const pickedPromise = new Promise((resolve) => {\n",
              "    inputElement.addEventListener('change', (e) => {\n",
              "      resolve(e.target.files);\n",
              "    });\n",
              "  });\n",
              "\n",
              "  const cancel = document.createElement('button');\n",
              "  inputElement.parentElement.appendChild(cancel);\n",
              "  cancel.textContent = 'Cancel upload';\n",
              "  const cancelPromise = new Promise((resolve) => {\n",
              "    cancel.onclick = () => {\n",
              "      resolve(null);\n",
              "    };\n",
              "  });\n",
              "\n",
              "  // Wait for the user to pick the files.\n",
              "  const files = yield {\n",
              "    promise: Promise.race([pickedPromise, cancelPromise]),\n",
              "    response: {\n",
              "      action: 'starting',\n",
              "    }\n",
              "  };\n",
              "\n",
              "  cancel.remove();\n",
              "\n",
              "  // Disable the input element since further picks are not allowed.\n",
              "  inputElement.disabled = true;\n",
              "\n",
              "  if (!files) {\n",
              "    return {\n",
              "      response: {\n",
              "        action: 'complete',\n",
              "      }\n",
              "    };\n",
              "  }\n",
              "\n",
              "  for (const file of files) {\n",
              "    const li = document.createElement('li');\n",
              "    li.append(span(file.name, {fontWeight: 'bold'}));\n",
              "    li.append(span(\n",
              "        `(${file.type || 'n/a'}) - ${file.size} bytes, ` +\n",
              "        `last modified: ${\n",
              "            file.lastModifiedDate ? file.lastModifiedDate.toLocaleDateString() :\n",
              "                                    'n/a'} - `));\n",
              "    const percent = span('0% done');\n",
              "    li.appendChild(percent);\n",
              "\n",
              "    outputElement.appendChild(li);\n",
              "\n",
              "    const fileDataPromise = new Promise((resolve) => {\n",
              "      const reader = new FileReader();\n",
              "      reader.onload = (e) => {\n",
              "        resolve(e.target.result);\n",
              "      };\n",
              "      reader.readAsArrayBuffer(file);\n",
              "    });\n",
              "    // Wait for the data to be ready.\n",
              "    let fileData = yield {\n",
              "      promise: fileDataPromise,\n",
              "      response: {\n",
              "        action: 'continue',\n",
              "      }\n",
              "    };\n",
              "\n",
              "    // Use a chunked sending to avoid message size limits. See b/62115660.\n",
              "    let position = 0;\n",
              "    do {\n",
              "      const length = Math.min(fileData.byteLength - position, MAX_PAYLOAD_SIZE);\n",
              "      const chunk = new Uint8Array(fileData, position, length);\n",
              "      position += length;\n",
              "\n",
              "      const base64 = btoa(String.fromCharCode.apply(null, chunk));\n",
              "      yield {\n",
              "        response: {\n",
              "          action: 'append',\n",
              "          file: file.name,\n",
              "          data: base64,\n",
              "        },\n",
              "      };\n",
              "\n",
              "      let percentDone = fileData.byteLength === 0 ?\n",
              "          100 :\n",
              "          Math.round((position / fileData.byteLength) * 100);\n",
              "      percent.textContent = `${percentDone}% done`;\n",
              "\n",
              "    } while (position < fileData.byteLength);\n",
              "  }\n",
              "\n",
              "  // All done.\n",
              "  yield {\n",
              "    response: {\n",
              "      action: 'complete',\n",
              "    }\n",
              "  };\n",
              "}\n",
              "\n",
              "scope.google = scope.google || {};\n",
              "scope.google.colab = scope.google.colab || {};\n",
              "scope.google.colab._files = {\n",
              "  _uploadFiles,\n",
              "  _uploadFilesContinue,\n",
              "};\n",
              "})(self);\n",
              "</script> "
            ]
          },
          "metadata": {}
        },
        {
          "output_type": "stream",
          "name": "stdout",
          "text": [
            "Saving modified_GoogleTranslate.csv to modified_GoogleTranslate.csv\n",
            "Successfully loaded CSV with utf-8 encoding\n",
            "Available columns:\n",
            "1: EN\n",
            "2: ES (Reference)\n",
            "3: Fine-tuned\n",
            "4: Google Translate\n",
            "5: ChatGPT\n",
            "6: Widn\n",
            "7: Unnamed: 6\n",
            "8: Unnamed: 7\n",
            "9: Score (Google Translate vs ES (Reference))\n",
            "10: Score (ES (Reference) vs Google Translate)\n",
            "Select the first column index - the Candidate MTed text (e.g., 1, 2, ...): 4\n",
            "Select the second column index - the Reference (e.g., 1, 2, ...): 2\n",
            "Enter the name for the HTML report (without extension): report\n",
            "\n",
            "Document-level PED Score: 73.49\n",
            "Modified CSV saved: modified_modified_GoogleTranslate.csv\n"
          ]
        },
        {
          "output_type": "display_data",
          "data": {
            "text/plain": [
              "<IPython.core.display.Javascript object>"
            ],
            "application/javascript": [
              "\n",
              "    async function download(id, filename, size) {\n",
              "      if (!google.colab.kernel.accessAllowed) {\n",
              "        return;\n",
              "      }\n",
              "      const div = document.createElement('div');\n",
              "      const label = document.createElement('label');\n",
              "      label.textContent = `Downloading \"${filename}\": `;\n",
              "      div.appendChild(label);\n",
              "      const progress = document.createElement('progress');\n",
              "      progress.max = size;\n",
              "      div.appendChild(progress);\n",
              "      document.body.appendChild(div);\n",
              "\n",
              "      const buffers = [];\n",
              "      let downloaded = 0;\n",
              "\n",
              "      const channel = await google.colab.kernel.comms.open(id);\n",
              "      // Send a message to notify the kernel that we're ready.\n",
              "      channel.send({})\n",
              "\n",
              "      for await (const message of channel.messages) {\n",
              "        // Send a message to notify the kernel that we're ready.\n",
              "        channel.send({})\n",
              "        if (message.buffers) {\n",
              "          for (const buffer of message.buffers) {\n",
              "            buffers.push(buffer);\n",
              "            downloaded += buffer.byteLength;\n",
              "            progress.value = downloaded;\n",
              "          }\n",
              "        }\n",
              "      }\n",
              "      const blob = new Blob(buffers, {type: 'application/binary'});\n",
              "      const a = document.createElement('a');\n",
              "      a.href = window.URL.createObjectURL(blob);\n",
              "      a.download = filename;\n",
              "      div.appendChild(a);\n",
              "      a.click();\n",
              "      div.remove();\n",
              "    }\n",
              "  "
            ]
          },
          "metadata": {}
        },
        {
          "output_type": "display_data",
          "data": {
            "text/plain": [
              "<IPython.core.display.Javascript object>"
            ],
            "application/javascript": [
              "download(\"download_e9ba4ab4-a510-4040-a4c9-0afe9a24f3d0\", \"modified_modified_GoogleTranslate.csv\", 25627)"
            ]
          },
          "metadata": {}
        },
        {
          "output_type": "stream",
          "name": "stdout",
          "text": [
            "HTML diff report generated: report.html\n"
          ]
        },
        {
          "output_type": "display_data",
          "data": {
            "text/plain": [
              "<IPython.core.display.Javascript object>"
            ],
            "application/javascript": [
              "\n",
              "    async function download(id, filename, size) {\n",
              "      if (!google.colab.kernel.accessAllowed) {\n",
              "        return;\n",
              "      }\n",
              "      const div = document.createElement('div');\n",
              "      const label = document.createElement('label');\n",
              "      label.textContent = `Downloading \"${filename}\": `;\n",
              "      div.appendChild(label);\n",
              "      const progress = document.createElement('progress');\n",
              "      progress.max = size;\n",
              "      div.appendChild(progress);\n",
              "      document.body.appendChild(div);\n",
              "\n",
              "      const buffers = [];\n",
              "      let downloaded = 0;\n",
              "\n",
              "      const channel = await google.colab.kernel.comms.open(id);\n",
              "      // Send a message to notify the kernel that we're ready.\n",
              "      channel.send({})\n",
              "\n",
              "      for await (const message of channel.messages) {\n",
              "        // Send a message to notify the kernel that we're ready.\n",
              "        channel.send({})\n",
              "        if (message.buffers) {\n",
              "          for (const buffer of message.buffers) {\n",
              "            buffers.push(buffer);\n",
              "            downloaded += buffer.byteLength;\n",
              "            progress.value = downloaded;\n",
              "          }\n",
              "        }\n",
              "      }\n",
              "      const blob = new Blob(buffers, {type: 'application/binary'});\n",
              "      const a = document.createElement('a');\n",
              "      a.href = window.URL.createObjectURL(blob);\n",
              "      a.download = filename;\n",
              "      div.appendChild(a);\n",
              "      a.click();\n",
              "      div.remove();\n",
              "    }\n",
              "  "
            ]
          },
          "metadata": {}
        },
        {
          "output_type": "display_data",
          "data": {
            "text/plain": [
              "<IPython.core.display.Javascript object>"
            ],
            "application/javascript": [
              "download(\"download_34777c33-a50c-4527-a1d3-bfa56a5fd0a9\", \"report.html\", 28559)"
            ]
          },
          "metadata": {}
        }
      ],
      "source": [
        "# Run the comparison function\n",
        "compare_columns_in_csv()"
      ]
    },
    {
      "cell_type": "markdown",
      "metadata": {
        "id": "optional-section"
      },
      "source": [
        "## Preview DataFrame (Optional)"
      ]
    },
    {
      "cell_type": "code",
      "execution_count": null,
      "metadata": {
        "id": "preview-dataframe"
      },
      "outputs": [],
      "source": [
        "# Code to preview the DataFrame after processing\n",
        "# Uncomment and run this cell to see the results\n",
        "# df.head()"
      ]
    },
    {
      "cell_type": "markdown",
      "metadata": {
        "id": "interactive-report-section"
      },
      "source": [
        "## Interactive Report Display (Optional)"
      ]
    },
    {
      "cell_type": "code",
      "execution_count": null,
      "metadata": {
        "id": "display-report"
      },
      "outputs": [],
      "source": [
        "# Display the HTML report in the notebook (requires the HTML file to exist)\n",
        "# from IPython.display import HTML, display\n",
        "# with open(f'{report_name}.html', 'r') as f:\n",
        "#     display(HTML(f.read()))"
      ]
    }
  ],
  "metadata": {
    "colab": {
      "provenance": [],
      "include_colab_link": true
    },
    "kernelspec": {
      "display_name": "Python 3",
      "name": "python3"
    },
    "language_info": {
      "name": "python"
    }
  },
  "nbformat": 4,
  "nbformat_minor": 0
}